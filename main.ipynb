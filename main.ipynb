{
 "cells": [
  {
   "cell_type": "code",
   "execution_count": null,
   "metadata": {},
   "outputs": [],
   "source": [
    "\n"
   ]
  },
  {
   "cell_type": "code",
   "execution_count": 1,
   "metadata": {},
   "outputs": [],
   "source": [
    "from flask import Flask,render_template,request,redirect\n",
    "import pymysql\n",
    "app=Flask(__name__)\n",
    "conn=pymysql.connect(host=\"localhost\",user=\"root\",password=\"\",database=\"american\")\n",
    "cursor=conn.cursor()\n",
    "@app.route(\"/\")\n",
    "def index():\n",
    "    return render_template(\"index.html\")\n",
    "@app.route(\"/info/\")\n",
    "def contact():\n",
    "    return render_template(\"contact.html\")\n",
    "@app.route(\"/hotel_booking/\")\n",
    "def hotel():\n",
    "    return render_template(\"hotels.html\")\n",
    "@app.route(\"/packages_booking/\")\n",
    "def package():\n",
    "    return render_template(\"packages.html\")\n",
    "@app.route(\"/about_us/\")\n",
    "def about():\n",
    "    return render_template(\"about.html\")\n",
    "@app.route(\"/register/\")\n",
    "def sine_up():\n",
    "    return render_template(\"register.html\")\n",
    "@app.route(\"/login/\")\n",
    "def sign_in():\n",
    "    return render_template(\"login.html\")\n",
    "@app.route(\"/login_validation\", methods=['POST'])\n",
    "def login_validation():\n",
    "    email=request.form.get(\"email\")\n",
    "    password=request.form.get(\"password\")\n",
    "    \n",
    "    cursor.execute(\"\"\"SELECT * FROM `REGISTER` WHERE `email` LIKe '{}' AND `password` LIKE '{}'\"\"\".format(email,password))\n",
    "    users=cursor.fetchall()\n",
    "    print(users)\n",
    "    if len(users)>0:\n",
    "            return render_template(\"index.html\")\n",
    "    else:\n",
    "            return \"you are not logged in sucessfully\"\n",
    "@app.route(\"/add_user\", methods=['POST','GET'])\n",
    "def add_user():\n",
    "    if request.method=='POST':\n",
    "        name=request.form.get(\"name\")\n",
    "        address=request.form.get(\"address\")\n",
    "        gender=request.form.get(\"gender\")\n",
    "        date_of_birth=request.form.get(\"DOB\")\n",
    "        email=request.form.get(\"email\")\n",
    "        password=request.form.get(\"password\")\n",
    "        cursor.execute(\"INSERT INTO `REGISTER` (`name`, `email`, `password`) VALUES ('{}', '{}', '{}');\".format(name,email,password))\n",
    "        conn.commit()\n",
    "    return render_template(\"index.html\")\n",
    "@app.route(\"/review\", methods=['POST','GET'])\n",
    "def review():\n",
    "    if request.method=='POST':\n",
    "        name=request.form.get(\"name\")\n",
    "        subject=request.form.get(\"subject\")\n",
    "        message=request.form.get(\"message\")\n",
    "        email=request.form.get(\"email\")\n",
    "        cursor.execute(\"INSERT INTO `posts` (`name`, `email`, `subject`, `message`) VALUES ('{}', '{}', '{}', '{}');\".format(name,email,subject,message))\n",
    "        conn.commit()\n",
    "    return redirect('/')\n",
    "    \n",
    "    \n",
    "\n",
    "    "
   ]
  },
  {
   "cell_type": "code",
   "execution_count": null,
   "metadata": {},
   "outputs": [],
   "source": [
    "app.run(port=2020)"
   ]
  },
  {
   "cell_type": "code",
   "execution_count": null,
   "metadata": {},
   "outputs": [],
   "source": []
  },
  {
   "cell_type": "code",
   "execution_count": null,
   "metadata": {},
   "outputs": [],
   "source": []
  }
 ],
 "metadata": {
  "kernelspec": {
   "display_name": "Python 3",
   "language": "python",
   "name": "python3"
  },
  "language_info": {
   "codemirror_mode": {
    "name": "ipython",
    "version": 3
   },
   "file_extension": ".py",
   "mimetype": "text/x-python",
   "name": "python",
   "nbconvert_exporter": "python",
   "pygments_lexer": "ipython3",
   "version": "3.7.4"
  }
 },
 "nbformat": 4,
 "nbformat_minor": 4
}
